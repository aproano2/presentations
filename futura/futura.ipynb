{
 "cells": [
  {
   "cell_type": "markdown",
   "id": "54e72c0f",
   "metadata": {
    "slideshow": {
     "slide_type": "slide"
    }
   },
   "source": [
    "# Todos Somos Data Scientists\n",
    "\n",
    "### Alejandro Proaño, PhD"
   ]
  },
  {
   "cell_type": "markdown",
   "id": "25ff2990",
   "metadata": {
    "slideshow": {
     "slide_type": "slide"
    }
   },
   "source": [
    "## ¿Quién Soy Yo?\n",
    "\n",
    "- Científico aplicado en Amazon Web Services\n",
    "\n",
    "- Trabajo en planificación de infraestructura para la red global de Amazon\n",
    "\n",
    "- Antes de Amazon, estuve en Verizon trabajando en optimización de infraestructura del Internet\n",
    "\n",
    "\n",
    "Nota: opiniones y contenido son propios y no representan una posición de Amazon"
   ]
  },
  {
   "cell_type": "markdown",
   "id": "55f64911",
   "metadata": {
    "slideshow": {
     "slide_type": "slide"
    }
   },
   "source": [
    "## Data Science\n",
    "\n",
    "- Un término muy popular en la ultima década\n",
    "\n",
    "- Mucho mas relevante por los avances en hardware que han hecho posible almacenar grandes cantidades de datos y mejorar redes neuronales\n",
    "\n",
    "- El término **data science** fue introducido por profesionales en Facebook y LinkedIn para describir a profesionales con habilidades en manejar grandes cantidades de datos. \n",
    "\n",
    "- Un data scientist es alguien quien puede usar datos, **entenderlos**, **procesarlos** y **extraer algo valioso** de ellos. \n"
   ]
  },
  {
   "cell_type": "markdown",
   "id": "15201bf1",
   "metadata": {
    "slideshow": {
     "slide_type": "subslide"
    }
   },
   "source": [
    "## Ejemplos - Data Science\n",
    "\n",
    "Facebook | Netflix | Spotify | Youtube\n",
    "- | - | - | -\n",
    "![alt](facebook.png) | ![alt](netflix.png) | ![alt](spotify.jpeg) | ![alt](youtube.jpeg)"
   ]
  },
  {
   "cell_type": "markdown",
   "id": "a679371d",
   "metadata": {
    "slideshow": {
     "slide_type": "slide"
    }
   },
   "source": [
    "## Todos somos data scientist\n",
    "\n",
    "Cuando escuchamos el término **data science** lo asociamos con:\n",
    "- aplicaciones que usamos en el Internet \n",
    "- conocimiento matemáticas (estadística y probabilidades)\n",
    "\n",
    "Data science es un campo que requiere colaboración de diferentes campos\n",
    "\n",
    "Al nivel mas cotidiano, todos somos data scientist, y usamos **data science** todos los días \n",
    "\n"
   ]
  },
  {
   "cell_type": "markdown",
   "id": "12237994",
   "metadata": {
    "slideshow": {
     "slide_type": "subslide"
    }
   },
   "source": [
    "## Ejemplo - Mario:\n",
    "\n",
    "- Mario es un hombre en sus 70s, sin formación universitaria. \n",
    "\n",
    "- Ha trabajado con maquinaria pesada (camiones, tractores, buses, etc.) por mas de 50 años \n",
    "\n",
    "- Mario tiene una característica especial, cuando maneja un vehículo, entiende el estado del mismo \n",
    "\n",
    "- Si hay un problema con la transmisión, puede identificarlo por los sonidos que hace el vehículo cuando se cambia la velocidad, o por la sensación al usar la palanca de cambios\n",
    "\n",
    "Mario usa los datos que el auto le provee y los procesa de tal manera que genera un valor inmediato. "
   ]
  },
  {
   "cell_type": "markdown",
   "id": "9d676cb8",
   "metadata": {
    "slideshow": {
     "slide_type": "subslide"
    }
   },
   "source": [
    "## Skoda\n",
    "\n",
    "![skoda](./skoda.png)\n",
    "\n",
    "*https://www.autoweek.com/news/technology/a34361559/skodas-app-can-diagnose-car-problems-simply-by-listening/"
   ]
  },
  {
   "cell_type": "markdown",
   "id": "4686bf8f",
   "metadata": {
    "slideshow": {
     "slide_type": "subslide"
    }
   },
   "source": [
    "## Skoda v. Mario:\n",
    "\n",
    "- Skoda usa modelos de machine learning. Mario usa su experiencia.\n",
    "\n",
    "- Al tener muchos talleres y proveer servicio a muchos autos, Skoda tiene la ventaja de recoger los datos en menor tiempo.\n",
    "\n",
    "- Skoda necesita de personas que puedan entender, procesar y extraer algo valioso de esos datos. Mario hace esto instantáneamente.\n",
    "\n",
    "- Skoda haría disponible lo que pocas pueden hacer a muchas mas personas que no tienen ese conocimiento de autos o mecánica  \n"
   ]
  },
  {
   "cell_type": "markdown",
   "id": "a99dc34a",
   "metadata": {
    "slideshow": {
     "slide_type": "slide"
    }
   },
   "source": [
    "## Perfil de data scientists\n",
    "\n",
    "Para implementar la aplicacion necesitamos de personas con las siguientes habilidades:\n",
    "\n",
    "1. Experiencia con autos y mecánica\n",
    "2. Matemáticas\n",
    "    - Procesamiento de señales de audio\n",
    "    - Estadística y probabilidades\n",
    "3. Programación (básica)"
   ]
  },
  {
   "cell_type": "markdown",
   "id": "a99c1854",
   "metadata": {
    "slideshow": {
     "slide_type": "subslide"
    }
   },
   "source": [
    "## Expertos en el tema\n",
    "\n",
    "No podemos resolver un problema si no podemos definirlo y entenderlo\n",
    "- Estos expertos son los que dominan los datos y la aplicación sin mayor esfuerzo\n",
    "- Sus funciones:\n",
    "    - identificar el problema\n",
    "    - saber que tipo de datos son útiles y en donde empezar\n",
    "    - ellos mismos pueden servirnos de nuestro prototipo\n",
    "    \n",
    "En nuestro ejemplo, Mario nos puede ayudar:\n",
    "- siendo un ejemplo de la aplicación que queremos implementar\n",
    "- mostrándonos que sonidos y donde debemos grabar\n",
    "- identificando cuando hay un problema"
   ]
  },
  {
   "cell_type": "markdown",
   "id": "15a117fd",
   "metadata": {
    "slideshow": {
     "slide_type": "subslide"
    }
   },
   "source": [
    "## Expertos en matemáticas\n",
    "\n",
    "Ya hemos generado u obtenido los datos necesarios para nuestra aplicación\n",
    "\n",
    "<img src=\"./sound.png\" alt=\"Drawing\" style=\"width: 350px;\"/> \n",
    "\n",
    "Necesitamos alguien que nos ayude a procesar los datos:\n",
    "\n",
    "- traducir las señales de sonido a números que puedan ser usados en la aplicación\n",
    "- identificar las partes de cada dato que nos va a servir\n",
    "- borrar ruido de la señal\n",
    "\n",
    "Una vez que los datos han sido procesados, necesitamos:\n",
    "\n",
    "- dividir los datos para entrenar y validar el modelo\n",
    "- identificar el método mas apropiado para entrenar el modelo\n",
    "- evaluar el modelo"
   ]
  },
  {
   "cell_type": "markdown",
   "id": "fe7b6714",
   "metadata": {
    "slideshow": {
     "slide_type": "subslide"
    }
   },
   "source": [
    "## Expertos en matemáticas\n",
    "\n",
    "\n",
    "\n",
    "<img src=\"./audio_proc.png\" alt=\"Drawing\" style=\"width: 750px;\"/> \n",
    "\n",
    "* https://towardsdatascience.com/audio-deep-learning-made-simple-sound-classification-step-by-step-cebc936bbe5"
   ]
  },
  {
   "cell_type": "markdown",
   "id": "24d5b5e0",
   "metadata": {
    "slideshow": {
     "slide_type": "subslide"
    }
   },
   "source": [
    "## Expertos en programación\n",
    "\n",
    "1. Nuestros expertos en matemáticas deben tener habilidades suficientes de programación para procesar los datos\n",
    "\n",
    "2. Una vez que el modelo es aplicado, ahora el proyecto tiene que ser implementado para el uso del público"
   ]
  },
  {
   "cell_type": "markdown",
   "id": "a787f2a6",
   "metadata": {
    "slideshow": {
     "slide_type": "slide"
    }
   },
   "source": [
    "## Perfil de data scientists\n",
    "\n",
    "1. Experiencia en el tema \n",
    "2. Matemáticas\n",
    "3. Programación (básica)\n",
    "\n",
    "Encontrar personas con todas estas características es muy difícil \n",
    "\n",
    "Universidades proveen de programas que ayudan a adquirir algunas de estas habilidades\n",
    "\n",
    "Con esas habilidades se abren las puertas para colaborar, emprender e impactar con el tipo de proyectos y productos que se pueden desarrollar"
   ]
  },
  {
   "cell_type": "markdown",
   "id": "31452601",
   "metadata": {
    "slideshow": {
     "slide_type": "slide"
    }
   },
   "source": [
    "# Gracias!"
   ]
  }
 ],
 "metadata": {
  "celltoolbar": "Slideshow",
  "kernelspec": {
   "display_name": "Python 3",
   "language": "python",
   "name": "python3"
  },
  "language_info": {
   "codemirror_mode": {
    "name": "ipython",
    "version": 3
   },
   "file_extension": ".py",
   "mimetype": "text/x-python",
   "name": "python",
   "nbconvert_exporter": "python",
   "pygments_lexer": "ipython3",
   "version": "3.8.8"
  }
 },
 "nbformat": 4,
 "nbformat_minor": 5
}
