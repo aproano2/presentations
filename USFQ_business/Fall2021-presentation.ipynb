{
 "cells": [
  {
   "cell_type": "markdown",
   "id": "739644ab",
   "metadata": {},
   "source": [
    "## Outline\n",
    "\n",
    "1. Intro to Data Science (5 mins)\n",
    " - Components of data science\n",
    " - Types of problems (daily and business)\n",
    "2. Data science and risk management (20 mins)\n",
    " - Into\n",
    " - Example of Advertisement (traditional Tv and Youtube)\n",
    " - Traditional TV assumptions, process and benefits\n",
    " - Focalized advertisement (e.g., Youtube) and the data science process\n",
    " - Comparison and discussion\n",
    "3. Discussion (5 mins)\n",
    " - This should happen when we do point 2. "
   ]
  },
  {
   "cell_type": "code",
   "execution_count": null,
   "id": "f3068ecb",
   "metadata": {},
   "outputs": [],
   "source": []
  }
 ],
 "metadata": {
  "kernelspec": {
   "display_name": "Python 3",
   "language": "python",
   "name": "python3"
  },
  "language_info": {
   "codemirror_mode": {
    "name": "ipython",
    "version": 3
   },
   "file_extension": ".py",
   "mimetype": "text/x-python",
   "name": "python",
   "nbconvert_exporter": "python",
   "pygments_lexer": "ipython3",
   "version": "3.8.8"
  }
 },
 "nbformat": 4,
 "nbformat_minor": 5
}
